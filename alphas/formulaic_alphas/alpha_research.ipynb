{
 "cells": [
  {
   "cell_type": "code",
   "execution_count": 9,
   "metadata": {},
   "outputs": [],
   "source": [
    "from quantlib.alphas.formulaic_alphas import alpha_002, alpha_003, alpha_004 \n",
    "import quant_tools.performance_analysis as pa"
   ]
  },
  {
   "cell_type": "code",
   "execution_count": 3,
   "metadata": {},
   "outputs": [
    {
     "name": "stdout",
     "output_type": "stream",
     "text": [
      "Loading cache from C:\\Users\\marcu\\AppData\\Local\\Packages\\PythonSoftwareFoundation.Python.3.7_qbz5n2kfra8p0\\LocalCache\\local-packages\\Python37\\site-packages\\quantlib\\database\\cache\\russell_3000\\russell_3000_cache.pickle\n",
      "Loading cache from C:\\Users\\marcu\\AppData\\Local\\Packages\\PythonSoftwareFoundation.Python.3.7_qbz5n2kfra8p0\\LocalCache\\local-packages\\Python37\\site-packages\\quantlib\\database\\cache\\russell_3000\\adj_close_returns.pickle\n",
      "Getting formulaic alpha for AAPL\n",
      "Getting formulaic alpha for MSFT\n",
      "Getting formulaic alpha for AMZN\n",
      "Getting formulaic alpha for GOOGL\n",
      "Getting formulaic alpha for GOOG\n",
      "Getting formulaic alpha for NVDA\n",
      "Getting formulaic alpha for XOM\n",
      "Getting formulaic alpha for TSLA\n",
      "Getting formulaic alpha for UNH\n",
      "Getting formulaic alpha for JNJ\n",
      "Getting formulaic alpha for JPM\n",
      "Getting formulaic alpha for V\n",
      "Getting formulaic alpha for META\n",
      "Getting formulaic alpha for HD\n",
      "Getting formulaic alpha for PG\n",
      "Getting formulaic alpha for CVX\n",
      "Getting formulaic alpha for MA\n",
      "Getting formulaic alpha for LLY\n",
      "Getting formulaic alpha for MRK\n",
      "Getting formulaic alpha for ABBV\n",
      "Getting formulaic alpha for BAC\n",
      "Getting formulaic alpha for PFE\n"
     ]
    }
   ],
   "source": [
    "a2 = alpha_002.alpha_002()"
   ]
  },
  {
   "cell_type": "code",
   "execution_count": 19,
   "metadata": {},
   "outputs": [
    {
     "data": {
      "text/html": [
       "<div>\n",
       "<style scoped>\n",
       "    .dataframe tbody tr th:only-of-type {\n",
       "        vertical-align: middle;\n",
       "    }\n",
       "\n",
       "    .dataframe tbody tr th {\n",
       "        vertical-align: top;\n",
       "    }\n",
       "\n",
       "    .dataframe thead th {\n",
       "        text-align: right;\n",
       "    }\n",
       "</style>\n",
       "<table border=\"1\" class=\"dataframe\">\n",
       "  <thead>\n",
       "    <tr style=\"text-align: right;\">\n",
       "      <th></th>\n",
       "      <th>alpha_model_returns Performance Summary</th>\n",
       "    </tr>\n",
       "  </thead>\n",
       "  <tbody>\n",
       "    <tr>\n",
       "      <th>Sharpe Ratio</th>\n",
       "      <td>0.546</td>\n",
       "    </tr>\n",
       "    <tr>\n",
       "      <th>Drift Adjusted Sharpe Ratio</th>\n",
       "      <td>0.068</td>\n",
       "    </tr>\n",
       "    <tr>\n",
       "      <th>CAGR</th>\n",
       "      <td>0.038</td>\n",
       "    </tr>\n",
       "    <tr>\n",
       "      <th>Vol</th>\n",
       "      <td>0.073</td>\n",
       "    </tr>\n",
       "    <tr>\n",
       "      <th>Sortino Ratio</th>\n",
       "      <td>0.828</td>\n",
       "    </tr>\n",
       "    <tr>\n",
       "      <th>Martin (Ulcer) Ratio</th>\n",
       "      <td>0.704</td>\n",
       "    </tr>\n",
       "    <tr>\n",
       "      <th>Omega Ratio</th>\n",
       "      <td>0.935</td>\n",
       "    </tr>\n",
       "    <tr>\n",
       "      <th>RR Ratio</th>\n",
       "      <td>1.100</td>\n",
       "    </tr>\n",
       "    <tr>\n",
       "      <th>Win Rate</th>\n",
       "      <td>0.511</td>\n",
       "    </tr>\n",
       "    <tr>\n",
       "      <th>Skew</th>\n",
       "      <td>0.478</td>\n",
       "    </tr>\n",
       "    <tr>\n",
       "      <th>Kurtosis</th>\n",
       "      <td>16.173</td>\n",
       "    </tr>\n",
       "    <tr>\n",
       "      <th>Max Drawdown</th>\n",
       "      <td>-0.156</td>\n",
       "    </tr>\n",
       "    <tr>\n",
       "      <th>VaR - Laplace</th>\n",
       "      <td>-0.018</td>\n",
       "    </tr>\n",
       "    <tr>\n",
       "      <th>CVaR - Laplace</th>\n",
       "      <td>-0.022</td>\n",
       "    </tr>\n",
       "    <tr>\n",
       "      <th>Tail-Risk Density</th>\n",
       "      <td>0.002</td>\n",
       "    </tr>\n",
       "  </tbody>\n",
       "</table>\n",
       "</div>"
      ],
      "text/plain": [
       "                             alpha_model_returns Performance Summary\n",
       "Sharpe Ratio                                                   0.546\n",
       "Drift Adjusted Sharpe Ratio                                    0.068\n",
       "CAGR                                                           0.038\n",
       "Vol                                                            0.073\n",
       "Sortino Ratio                                                  0.828\n",
       "Martin (Ulcer) Ratio                                           0.704\n",
       "Omega Ratio                                                    0.935\n",
       "RR Ratio                                                       1.100\n",
       "Win Rate                                                       0.511\n",
       "Skew                                                           0.478\n",
       "Kurtosis                                                      16.173\n",
       "Max Drawdown                                                  -0.156\n",
       "VaR - Laplace                                                 -0.018\n",
       "CVaR - Laplace                                                -0.022\n",
       "Tail-Risk Density                                              0.002"
      ]
     },
     "execution_count": 19,
     "metadata": {},
     "output_type": "execute_result"
    },
    {
     "data": {
      "image/png": "[encoded data removed]",
      "text/plain": [
       "<Figure size 432x288 with 1 Axes>"
      ]
     },
     "metadata": {
      "needs_background": "light"
     },
     "output_type": "display_data"
    }
   ],
   "source": [
    "ret = (a2.alpha_model_returns*-1).iloc[4000:]\n",
    "pa.cumulative_returns(ret).plot()\n",
    "pa.performance_summary(ret)"
   ]
  },
  {
   "cell_type": "code",
   "execution_count": 4,
   "metadata": {},
   "outputs": [
    {
     "name": "stdout",
     "output_type": "stream",
     "text": [
      "Loading cache from C:\\Users\\marcu\\AppData\\Local\\Packages\\PythonSoftwareFoundation.Python.3.7_qbz5n2kfra8p0\\LocalCache\\local-packages\\Python37\\site-packages\\quantlib\\database\\cache\\russell_3000\\russell_3000_cache.pickle\n",
      "Loading cache from C:\\Users\\marcu\\AppData\\Local\\Packages\\PythonSoftwareFoundation.Python.3.7_qbz5n2kfra8p0\\LocalCache\\local-packages\\Python37\\site-packages\\quantlib\\database\\cache\\russell_3000\\adj_close_returns.pickle\n",
      "Getting formulaic alpha for AAPL\n",
      "Getting formulaic alpha for MSFT\n",
      "Getting formulaic alpha for AMZN\n",
      "Getting formulaic alpha for GOOGL\n",
      "Getting formulaic alpha for GOOG\n",
      "Getting formulaic alpha for NVDA\n",
      "Getting formulaic alpha for XOM\n",
      "Getting formulaic alpha for TSLA\n",
      "Getting formulaic alpha for UNH\n",
      "Getting formulaic alpha for JNJ\n",
      "Getting formulaic alpha for JPM\n",
      "Getting formulaic alpha for V\n",
      "Getting formulaic alpha for META\n",
      "Getting formulaic alpha for HD\n",
      "Getting formulaic alpha for PG\n",
      "Getting formulaic alpha for CVX\n",
      "Getting formulaic alpha for MA\n",
      "Getting formulaic alpha for LLY\n",
      "Getting formulaic alpha for MRK\n",
      "Getting formulaic alpha for ABBV\n",
      "Getting formulaic alpha for BAC\n",
      "Getting formulaic alpha for PFE\n"
     ]
    }
   ],
   "source": [
    "a3 = alpha_003.alpha_003()"
   ]
  },
  {
   "cell_type": "code",
   "execution_count": 16,
   "metadata": {},
   "outputs": [
    {
     "data": {
      "text/html": [
       "<div>\n",
       "<style scoped>\n",
       "    .dataframe tbody tr th:only-of-type {\n",
       "        vertical-align: middle;\n",
       "    }\n",
       "\n",
       "    .dataframe tbody tr th {\n",
       "        vertical-align: top;\n",
       "    }\n",
       "\n",
       "    .dataframe thead th {\n",
       "        text-align: right;\n",
       "    }\n",
       "</style>\n",
       "<table border=\"1\" class=\"dataframe\">\n",
       "  <thead>\n",
       "    <tr style=\"text-align: right;\">\n",
       "      <th></th>\n",
       "      <th>alpha_model_returns Performance Summary</th>\n",
       "    </tr>\n",
       "  </thead>\n",
       "  <tbody>\n",
       "    <tr>\n",
       "      <th>Sharpe Ratio</th>\n",
       "      <td>0.612</td>\n",
       "    </tr>\n",
       "    <tr>\n",
       "      <th>Drift Adjusted Sharpe Ratio</th>\n",
       "      <td>0.154</td>\n",
       "    </tr>\n",
       "    <tr>\n",
       "      <th>CAGR</th>\n",
       "      <td>0.054</td>\n",
       "    </tr>\n",
       "    <tr>\n",
       "      <th>Vol</th>\n",
       "      <td>0.092</td>\n",
       "    </tr>\n",
       "    <tr>\n",
       "      <th>Sortino Ratio</th>\n",
       "      <td>0.880</td>\n",
       "    </tr>\n",
       "    <tr>\n",
       "      <th>Martin (Ulcer) Ratio</th>\n",
       "      <td>0.871</td>\n",
       "    </tr>\n",
       "    <tr>\n",
       "      <th>Omega Ratio</th>\n",
       "      <td>0.978</td>\n",
       "    </tr>\n",
       "    <tr>\n",
       "      <th>RR Ratio</th>\n",
       "      <td>1.118</td>\n",
       "    </tr>\n",
       "    <tr>\n",
       "      <th>Win Rate</th>\n",
       "      <td>0.518</td>\n",
       "    </tr>\n",
       "    <tr>\n",
       "      <th>Skew</th>\n",
       "      <td>0.165</td>\n",
       "    </tr>\n",
       "    <tr>\n",
       "      <th>Kurtosis</th>\n",
       "      <td>13.929</td>\n",
       "    </tr>\n",
       "    <tr>\n",
       "      <th>Max Drawdown</th>\n",
       "      <td>-0.163</td>\n",
       "    </tr>\n",
       "    <tr>\n",
       "      <th>VaR - Laplace</th>\n",
       "      <td>-0.022</td>\n",
       "    </tr>\n",
       "    <tr>\n",
       "      <th>CVaR - Laplace</th>\n",
       "      <td>-0.028</td>\n",
       "    </tr>\n",
       "    <tr>\n",
       "      <th>Tail-Risk Density</th>\n",
       "      <td>0.002</td>\n",
       "    </tr>\n",
       "  </tbody>\n",
       "</table>\n",
       "</div>"
      ],
      "text/plain": [
       "                             alpha_model_returns Performance Summary\n",
       "Sharpe Ratio                                                   0.612\n",
       "Drift Adjusted Sharpe Ratio                                    0.154\n",
       "CAGR                                                           0.054\n",
       "Vol                                                            0.092\n",
       "Sortino Ratio                                                  0.880\n",
       "Martin (Ulcer) Ratio                                           0.871\n",
       "Omega Ratio                                                    0.978\n",
       "RR Ratio                                                       1.118\n",
       "Win Rate                                                       0.518\n",
       "Skew                                                           0.165\n",
       "Kurtosis                                                      13.929\n",
       "Max Drawdown                                                  -0.163\n",
       "VaR - Laplace                                                 -0.022\n",
       "CVaR - Laplace                                                -0.028\n",
       "Tail-Risk Density                                              0.002"
      ]
     },
     "execution_count": 16,
     "metadata": {},
     "output_type": "execute_result"
    },
    {
     "data": {
      "image/png": "[encoded data removed]",
      "text/plain": [
       "<Figure size 432x288 with 1 Axes>"
      ]
     },
     "metadata": {
      "needs_background": "light"
     },
     "output_type": "display_data"
    }
   ],
   "source": [
    "ret = (a3.alpha_model_returns*-1).iloc[4000:]\n",
    "pa.cumulative_returns(ret).plot()\n",
    "pa.performance_summary(ret)"
   ]
  },
  {
   "cell_type": "code",
   "execution_count": 10,
   "metadata": {},
   "outputs": [
    {
     "name": "stdout",
     "output_type": "stream",
     "text": [
      "Loading cache from C:\\Users\\marcu\\AppData\\Local\\Packages\\PythonSoftwareFoundation.Python.3.7_qbz5n2kfra8p0\\LocalCache\\local-packages\\Python37\\site-packages\\quantlib\\database\\cache\\russell_3000\\russell_3000_cache.pickle\n",
      "Loading cache from C:\\Users\\marcu\\AppData\\Local\\Packages\\PythonSoftwareFoundation.Python.3.7_qbz5n2kfra8p0\\LocalCache\\local-packages\\Python37\\site-packages\\quantlib\\database\\cache\\russell_3000\\adj_close_returns.pickle\n",
      "Getting formulaic alpha for AAPL\n",
      "Getting formulaic alpha for MSFT\n",
      "Getting formulaic alpha for AMZN\n",
      "Getting formulaic alpha for GOOGL\n",
      "Getting formulaic alpha for GOOG\n",
      "Getting formulaic alpha for NVDA\n",
      "Getting formulaic alpha for XOM\n",
      "Getting formulaic alpha for TSLA\n",
      "Getting formulaic alpha for UNH\n",
      "Getting formulaic alpha for JNJ\n",
      "Getting formulaic alpha for JPM\n",
      "Getting formulaic alpha for V\n",
      "Getting formulaic alpha for META\n",
      "Getting formulaic alpha for HD\n",
      "Getting formulaic alpha for PG\n",
      "Getting formulaic alpha for CVX\n",
      "Getting formulaic alpha for MA\n",
      "Getting formulaic alpha for LLY\n",
      "Getting formulaic alpha for MRK\n",
      "Getting formulaic alpha for ABBV\n",
      "Getting formulaic alpha for BAC\n",
      "Getting formulaic alpha for PFE\n"
     ]
    }
   ],
   "source": [
    "a4 = alpha_004.alpha_004()"
   ]
  },
  {
   "cell_type": "code",
   "execution_count": 18,
   "metadata": {},
   "outputs": [
    {
     "data": {
      "text/html": [
       "<div>\n",
       "<style scoped>\n",
       "    .dataframe tbody tr th:only-of-type {\n",
       "        vertical-align: middle;\n",
       "    }\n",
       "\n",
       "    .dataframe tbody tr th {\n",
       "        vertical-align: top;\n",
       "    }\n",
       "\n",
       "    .dataframe thead th {\n",
       "        text-align: right;\n",
       "    }\n",
       "</style>\n",
       "<table border=\"1\" class=\"dataframe\">\n",
       "  <thead>\n",
       "    <tr style=\"text-align: right;\">\n",
       "      <th></th>\n",
       "      <th>alpha_model_returns Performance Summary</th>\n",
       "    </tr>\n",
       "  </thead>\n",
       "  <tbody>\n",
       "    <tr>\n",
       "      <th>Sharpe Ratio</th>\n",
       "      <td>0.580</td>\n",
       "    </tr>\n",
       "    <tr>\n",
       "      <th>Drift Adjusted Sharpe Ratio</th>\n",
       "      <td>0.031</td>\n",
       "    </tr>\n",
       "    <tr>\n",
       "      <th>CAGR</th>\n",
       "      <td>0.067</td>\n",
       "    </tr>\n",
       "    <tr>\n",
       "      <th>Vol</th>\n",
       "      <td>0.125</td>\n",
       "    </tr>\n",
       "    <tr>\n",
       "      <th>Sortino Ratio</th>\n",
       "      <td>0.853</td>\n",
       "    </tr>\n",
       "    <tr>\n",
       "      <th>Martin (Ulcer) Ratio</th>\n",
       "      <td>0.662</td>\n",
       "    </tr>\n",
       "    <tr>\n",
       "      <th>Omega Ratio</th>\n",
       "      <td>1.007</td>\n",
       "    </tr>\n",
       "    <tr>\n",
       "      <th>RR Ratio</th>\n",
       "      <td>1.109</td>\n",
       "    </tr>\n",
       "    <tr>\n",
       "      <th>Win Rate</th>\n",
       "      <td>0.503</td>\n",
       "    </tr>\n",
       "    <tr>\n",
       "      <th>Skew</th>\n",
       "      <td>0.003</td>\n",
       "    </tr>\n",
       "    <tr>\n",
       "      <th>Kurtosis</th>\n",
       "      <td>7.719</td>\n",
       "    </tr>\n",
       "    <tr>\n",
       "      <th>Max Drawdown</th>\n",
       "      <td>-0.302</td>\n",
       "    </tr>\n",
       "    <tr>\n",
       "      <th>VaR - Laplace</th>\n",
       "      <td>-0.030</td>\n",
       "    </tr>\n",
       "    <tr>\n",
       "      <th>CVaR - Laplace</th>\n",
       "      <td>-0.039</td>\n",
       "    </tr>\n",
       "    <tr>\n",
       "      <th>Tail-Risk Density</th>\n",
       "      <td>0.002</td>\n",
       "    </tr>\n",
       "  </tbody>\n",
       "</table>\n",
       "</div>"
      ],
      "text/plain": [
       "                             alpha_model_returns Performance Summary\n",
       "Sharpe Ratio                                                   0.580\n",
       "Drift Adjusted Sharpe Ratio                                    0.031\n",
       "CAGR                                                           0.067\n",
       "Vol                                                            0.125\n",
       "Sortino Ratio                                                  0.853\n",
       "Martin (Ulcer) Ratio                                           0.662\n",
       "Omega Ratio                                                    1.007\n",
       "RR Ratio                                                       1.109\n",
       "Win Rate                                                       0.503\n",
       "Skew                                                           0.003\n",
       "Kurtosis                                                       7.719\n",
       "Max Drawdown                                                  -0.302\n",
       "VaR - Laplace                                                 -0.030\n",
       "CVaR - Laplace                                                -0.039\n",
       "Tail-Risk Density                                              0.002"
      ]
     },
     "execution_count": 18,
     "metadata": {},
     "output_type": "execute_result"
    },
    {
     "data": {
      "image/png": "[encoded data removed]",
      "text/plain": [
       "<Figure size 432x288 with 1 Axes>"
      ]
     },
     "metadata": {
      "needs_background": "light"
     },
     "output_type": "display_data"
    }
   ],
   "source": [
    "ret = (a4.alpha_model_returns*-1).iloc[4000:]\n",
    "pa.cumulative_returns(ret).plot()\n",
    "pa.performance_summary(ret)"
   ]
  }
 ],
 "metadata": {
  "kernelspec": {
   "display_name": "Python 3",
   "language": "python",
   "name": "python3"
  },
  "language_info": {
   "codemirror_mode": {
    "name": "ipython",
    "version": 3
   },
   "file_extension": ".py",
   "mimetype": "text/x-python",
   "name": "python",
   "nbconvert_exporter": "python",
   "pygments_lexer": "ipython3",
   "version": "3.7.9"
  },
  "orig_nbformat": 4
 },
 "nbformat": 4,
 "nbformat_minor": 2
}
